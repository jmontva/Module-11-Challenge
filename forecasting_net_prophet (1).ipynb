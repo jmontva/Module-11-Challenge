{
  "cells": [
    {
      "cell_type": "markdown",
      "metadata": {
        "id": "tZlnu86TSwzG"
      },
      "source": [
        "# Forecasting Net Prophet\n",
        "\n",
        "You’re a growth analyst at [MercadoLibre](http://investor.mercadolibre.com/investor-relations). With over 200 million users, MercadoLibre is the most popular e-commerce site in Latin America. You've been tasked with analyzing the company's financial and user data in clever ways to make the company grow. So, you want to find out if the ability to predict search traffic can translate into the ability to successfully trade the stock.\n",
        "\n",
        "Instructions\n",
        "\n",
        "This section divides the instructions for this Challenge into four steps and an optional fifth step, as follows:\n",
        "\n",
        "* Step 1: Find unusual patterns in hourly Google search traffic\n",
        "\n",
        "* Step 2: Mine the search traffic data for seasonality\n",
        "\n",
        "* Step 3: Relate the search traffic to stock price patterns\n",
        "\n",
        "* Step 4: Create a time series model with Prophet\n",
        "\n",
        "* Step 5 (optional): Forecast revenue by using time series models\n",
        "\n",
        "The following subsections detail these steps.\n",
        "\n",
        "## Step 1: Find Unusual Patterns in Hourly Google Search Traffic\n",
        "\n",
        "The data science manager asks if the Google search traffic for the company links to any financial events at the company. Or, does the search traffic data just present random noise? To answer this question, pick out any unusual patterns in the Google search data for the company, and connect them to the corporate financial events.\n",
        "\n",
        "To do so, complete the following steps:\n",
        "\n",
        "1. Read the search data into a DataFrame, and then slice the data to just the month of May 2020. (During this month, MercadoLibre released its quarterly financial results.) Use hvPlot to visualize the results. Do any unusual patterns exist?\n",
        "\n",
        "2. Calculate the total search traffic for the month, and then compare the value to the monthly median across all months. Did the Google search traffic increase during the month that MercadoLibre released its financial results?\n",
        "\n",
        "## Step 2: Mine the Search Traffic Data for Seasonality\n",
        "\n",
        "Marketing realizes that they can use the hourly search data, too. If they can track and predict interest in the company and its platform for any time of day, they can focus their marketing efforts around the times that have the most traffic. This will get a greater return on investment (ROI) from their marketing budget.\n",
        "\n",
        "To that end, you want to mine the search traffic data for predictable seasonal patterns of interest in the company. To do so, complete the following steps:\n",
        "\n",
        "1. Group the hourly search data to plot the average traffic by the day of the week (for example, Monday vs. Friday).\n",
        "\n",
        "2. Using hvPlot, visualize this traffic as a heatmap, referencing the `index.hour` as the x-axis and the `index.dayofweek` as the y-axis. Does any day-of-week effect that you observe concentrate in just a few hours of that day?\n",
        "\n",
        "3. Group the search data by the week of the year. Does the search traffic tend to increase during the winter holiday period (weeks 40 through 52)?\n",
        "\n",
        "## Step 3: Relate the Search Traffic to Stock Price Patterns\n",
        "\n",
        "You mention your work on the search traffic data during a meeting with people in the finance group at the company. They want to know if any relationship between the search data and the company stock price exists, and they ask if you can investigate.\n",
        "\n",
        "To do so, complete the following steps:\n",
        "\n",
        "1. Read in and plot the stock price data. Concatenate the stock price data to the search data in a single DataFrame.\n",
        "\n",
        "2. Market events emerged during the year of 2020 that many companies found difficult. But, after the initial shock to global financial markets, new customers and revenue increased for e-commerce platforms. Slice the data to just the first half of 2020 (`2020-01` to `2020-06` in the DataFrame), and then use hvPlot to plot the data. Do both time series indicate a common trend that’s consistent with this narrative?\n",
        "\n",
        "3. Create a new column in the DataFrame named “Lagged Search Trends” that offsets, or shifts, the search traffic by one hour. Create two additional columns:\n",
        "\n",
        "    * “Stock Volatility”, which holds an exponentially weighted four-hour rolling average of the company’s stock volatility\n",
        "\n",
        "    * “Hourly Stock Return”, which holds the percent change of the company's stock price on an hourly basis\n",
        "\n",
        "4. Review the time series correlation, and then answer the following question: Does a predictable relationship exist between the lagged search traffic and the stock volatility or between the lagged search traffic and the stock price returns?\n",
        "\n",
        "## Step 4: Create a Time Series Model with Prophet\n",
        "\n",
        "Now, you need to produce a time series model that analyzes and forecasts patterns in the hourly search data. To do so, complete the following steps:\n",
        "\n",
        "1. Set up the Google search data for a Prophet forecasting model.\n",
        "\n",
        "2. After estimating the model, plot the forecast. How's the near-term forecast for the popularity of MercadoLibre?\n",
        "\n",
        "3. Plot the individual time series components of the model to answer the following questions:\n",
        "\n",
        "    * What time of day exhibits the greatest popularity?\n",
        "\n",
        "    * Which day of the week gets the most search traffic?\n",
        "\n",
        "    * What's the lowest point for search traffic in the calendar year?\n",
        "\n",
        "## Step 5 (Optional): Forecast Revenue by Using Time Series Models\n",
        "\n",
        "A few weeks after your initial analysis, the finance group follows up to find out if you can help them solve a different problem. Your fame as a growth analyst in the company continues to grow!\n",
        "\n",
        "Specifically, the finance group wants a forecast of the total sales for the next quarter. This will dramatically increase their ability to plan budgets and to help guide expectations for the company investors.\n",
        "\n",
        "To do so, complete the following steps:\n",
        "\n",
        "1. Read in the daily historical sales (that is, revenue) figures, and then apply a Prophet model to the data.\n",
        "\n",
        "2. Interpret the model output to identify any seasonal patterns in the company's revenue. For example, what are the peak revenue days? (Mondays? Fridays? Something else?)\n",
        "\n",
        "3. Produce a sales forecast for the finance group. Give them a number for the expected total sales in the next quarter. Include the best- and worst-case scenarios to help them make better plans.\n"
      ]
    },
    {
      "cell_type": "markdown",
      "metadata": {
        "id": "10PA6VekSw15"
      },
      "source": [
        "## Install and import the required libraries and dependencies"
      ]
    },
    {
      "cell_type": "code",
      "execution_count": null,
      "metadata": {
        "id": "ey0aVsIzSw16"
      },
      "outputs": [],
      "source": [
        "# Install the required libraries\n",
        "!pip install pystan\n",
        "!pip install prophet\n",
        "!pip install hvplot\n",
        "!pip install holoviews"
      ]
    },
    {
      "cell_type": "code",
      "execution_count": null,
      "metadata": {
        "id": "joDeGqo3Sw17"
      },
      "outputs": [],
      "source": [
        "# Import the required libraries and dependencies\n",
        "import pandas as pd\n",
        "import holoviews as hv\n",
        "from prophet import Prophet\n",
        "import hvplot.pandas\n",
        "import datetime as dt\n",
        "%matplotlib inline"
      ]
    },
    {
      "cell_type": "markdown",
      "metadata": {
        "id": "31Ogjbu2Sw18"
      },
      "source": [
        "## Step 1: Find Unusual Patterns in Hourly Google Search Traffic\n",
        "\n",
        "The data science manager asks if the Google search traffic for the company links to any financial events at the company. Or, does the search traffic data just present random noise? To answer this question, pick out any unusual patterns in the Google search data for the company, and connect them to the corporate financial events.\n",
        "\n",
        "To do so, complete the following steps:\n",
        "\n",
        "1. Read the search data into a DataFrame, and then slice the data to just the month of May 2020. (During this month, MercadoLibre released its quarterly financial results.) Use hvPlot to visualize the results. Do any unusual patterns exist?\n",
        "\n",
        "2. Calculate the total search traffic for the month, and then compare the value to the monthly median across all months. Did the Google search traffic increase during the month that MercadoLibre released its financial results?\n"
      ]
    },
    {
      "cell_type": "markdown",
      "metadata": {
        "id": "5Tqs73_KSw18"
      },
      "source": [
        "#### Step 1: Read the search data into a DataFrame, and then slice the data to just the month of May 2020. (During this month, MercadoLibre released its quarterly financial results.) Use hvPlot to visualize the results. Do any unusual patterns exist?"
      ]
    },
    {
      "cell_type": "code",
      "execution_count": null,
      "metadata": {
        "id": "3KwJoPR3Sw18"
      },
      "outputs": [],
      "source": [
        "# Upload the \"google_hourly_search_trends.csv\" file into Colab, then store in a Pandas DataFrame\n",
        "# Set the \"Date\" column as the Datetime Index.\n",
        "\n",
        "from google.colab import files\n",
        "uploaded = files.upload()\n"
      ]
    },
    {
      "cell_type": "code",
      "execution_count": null,
      "metadata": {
        "id": "IjZqxsGHSw1-"
      },
      "outputs": [],
      "source": [
        "# Holoviews extension to render hvPlots in Colab\n",
        "hv.extension('bokeh')\n",
        "\n",
        "# Slice the DataFrame to just the month of May 2020\n",
        "df_may_2020 = df_mercado_trends.loc[\"2020-05\"]\n",
        "\n",
        "# Use hvPlot to visualize the data for May 2020\n",
        "df_may_2020.hvplot(title=\"Search trends MercadoLibre May 2020\")"
      ]
    },
    {
      "cell_type": "markdown",
      "metadata": {
        "id": "5iCvBGfVSw1-"
      },
      "source": [
        "#### Step 2: Calculate the total search traffic for the month, and then compare the value to the monthly median across all months. Did the Google search traffic increase during the month that MercadoLibre released its financial results?"
      ]
    },
    {
      "cell_type": "code",
      "execution_count": null,
      "metadata": {
        "id": "_Jp5RbOhSw1-"
      },
      "outputs": [],
      "source": [
        "# Calculate the sum of the total search traffic for May 2020\n",
        "traffic_may_2020 = df_may_2020.loc[\"2020-05\"].sum()\n",
        "\n",
        "# View the traffic_may_2020 value\n",
        "traffic_may_2020"
      ]
    },
    {
      "cell_type": "code",
      "execution_count": null,
      "metadata": {
        "id": "OrMedjf0Sw1_"
      },
      "outputs": [],
      "source": [
        "# Calcluate the monhtly median search traffic across all months\n",
        "# Group the DataFrame by index year and then index month, chain the sum and then the median functions\n",
        "median_monthly_traffic = df_mercado_trends[\"Search Trends\"].groupby(by=[df_mercado_trends.index.year, df_mercado_trends.index.month]).median()\n",
        "\n",
        "# View the median_monthly_traffic value\n",
        "median_monthly_traffic"
      ]
    },
    {
      "cell_type": "code",
      "execution_count": null,
      "metadata": {
        "id": "bOXZgaWdSw2A"
      },
      "outputs": [],
      "source": [
        "# Compare the seach traffic for the month of May 2020 to the overall monthly median value\n",
        "median_may_2020 = df_may_2020.median()\n"
      ]
    },
    {
      "cell_type": "markdown",
      "metadata": {
        "id": "m_Jtov0SSw2A"
      },
      "source": [
        "##### Answer the following question:"
      ]
    },
    {
      "cell_type": "markdown",
      "metadata": {
        "id": "ClwYtrTlSw2A"
      },
      "source": [
        "**Question:** Did the Google search traffic increase during the month that MercadoLibre released its financial results?\n",
        "\n",
        "**Answer:** # YOUR ANSWER HERE"
      ]
    },
    {
      "cell_type": "markdown",
      "metadata": {
        "id": "0Ycuh5gQSw2B"
      },
      "source": [
        "## Step 2: Mine the Search Traffic Data for Seasonality\n",
        "\n",
        "Marketing realizes that they can use the hourly search data, too. If they can track and predict interest in the company and its platform for any time of day, they can focus their marketing efforts around the times that have the most traffic. This will get a greater return on investment (ROI) from their marketing budget.\n",
        "\n",
        "To that end, you want to mine the search traffic data for predictable seasonal patterns of interest in the company. To do so, complete the following steps:\n",
        "\n",
        "1. Group the hourly search data to plot the average traffic by the day of the week (for example, Monday vs. Friday).\n",
        "\n",
        "2. Using hvPlot, visualize this traffic as a heatmap, referencing the `index.hour` as the x-axis and the `index.dayofweek` as the y-axis. Does any day-of-week effect that you observe concentrate in just a few hours of that day?\n",
        "\n",
        "3. Group the search data by the week of the year. Does the search traffic tend to increase during the winter holiday period (weeks 40 through 52)?\n"
      ]
    },
    {
      "cell_type": "markdown",
      "metadata": {
        "id": "6r6-JiadSw2B"
      },
      "source": [
        "#### Step 1: Group the hourly search data to plot the average traffic by the day of the week (for example, Monday vs. Friday)."
      ]
    },
    {
      "cell_type": "code",
      "execution_count": null,
      "metadata": {
        "id": "4N2Q30rgSw2B"
      },
      "outputs": [],
      "source": [
        "# Holoviews extension to render hvPlots in Colab\n",
        "hv.extension('bokeh')\n",
        "\n",
        "# Group the hourly search data to plot (use hvPlot) the average traffic by the day of week\n",
        "group_level_weeks = df_mercado_trends.index.dayofweek\n",
        "df_mercado_trends.groupby(group_level_weeks).mean().hvplot(title = \"Average Google search traffic grouped by day of week\")"
      ]
    },
    {
      "cell_type": "markdown",
      "metadata": {
        "id": "gw7hto3iSw2B"
      },
      "source": [
        "#### Step 2: Using hvPlot, visualize this traffic as a heatmap, referencing the `index.hour` as the x-axis and the `index.dayofweek` as the y-axis. Does any day-of-week effect that you observe concentrate in just a few hours of that day?"
      ]
    },
    {
      "cell_type": "code",
      "execution_count": null,
      "metadata": {
        "id": "OZcqcOuFSw2C"
      },
      "outputs": [],
      "source": [
        "# Holoviews extension to render hvPlots in Colab\n",
        "hv.extension('bokeh')\n",
        "\n",
        "# Use hvPlot to visualize the hour of the day and day of week search traffic as a heatmap.\n",
        "weekly_trends = df_mercado_trends.index.dayofweek\n",
        "df_mercado_trends.groupby(weekly_trends).mean().hvplot()\n",
        "\n",
        "df_mercado_trends.hvplot.heatmap(\n",
        "    x='index.hour',\n",
        "    y='index.dayofweek',\n",
        "    C='Search Trends',\n",
        "    cmap='reds',\n",
        "    title= \"Average search traffic during Hour of the day grouped by Days of the week\"\n",
        ").aggregate(function=np.mean)"
      ]
    },
    {
      "cell_type": "markdown",
      "metadata": {
        "id": "U0nJ2TjcSw2C"
      },
      "source": [
        "##### Answer the following question:"
      ]
    },
    {
      "cell_type": "markdown",
      "metadata": {
        "id": "UUSQdRCuSw2C"
      },
      "source": [
        "**Question:** Does any day-of-week effect that you observe concentrate in just a few hours of that day?\n",
        "\n",
        "**Answer:** # YOUR ANSWER HERE"
      ]
    },
    {
      "cell_type": "markdown",
      "metadata": {
        "id": "aow5iCddSw2C"
      },
      "source": [
        "#### Step 3: Group the search data by the week of the year. Does the search traffic tend to increase during the winter holiday period (weeks 40 through 52)?"
      ]
    },
    {
      "cell_type": "code",
      "execution_count": null,
      "metadata": {
        "id": "QTvmQM7DSw2D"
      },
      "outputs": [],
      "source": [
        "# Holoviews extension to render hvPlots in Colab\n",
        "hv.extension('bokeh')\n",
        "\n",
        "# Group the hourly search data to plot (use hvPlot) the average traffic by the week of the year\n",
        "group_level_week_num = df_mercado_trends.index.isocalendar().week\n",
        "df_mercado_trends.groupby(group_level_week_num).mean().hvplot(title=\"Average search traffic grouped by Week of the year\")"
      ]
    },
    {
      "cell_type": "markdown",
      "metadata": {
        "id": "eeLE-v57Sw2D"
      },
      "source": [
        "##### Answer the following question:"
      ]
    },
    {
      "cell_type": "markdown",
      "metadata": {
        "id": "m39rB_SaSw2D"
      },
      "source": [
        "**Question:** Does the search traffic tend to increase during the winter holiday period (weeks 40 through 52)?\n",
        "\n",
        "**Answer:** # YOUR ANSWER HERE"
      ]
    },
    {
      "cell_type": "markdown",
      "metadata": {
        "id": "A7Vw0Ls2Sw2D"
      },
      "source": [
        "## Step 3: Relate the Search Traffic to Stock Price Patterns\n",
        "\n",
        "You mention your work on the search traffic data during a meeting with people in the finance group at the company. They want to know if any relationship between the search data and the company stock price exists, and they ask if you can investigate.\n",
        "\n",
        "To do so, complete the following steps:\n",
        "\n",
        "1. Read in and plot the stock price data. Concatenate the stock price data to the search data in a single DataFrame.\n",
        "\n",
        "2. Market events emerged during the year of 2020 that many companies found difficult. But, after the initial shock to global financial markets, new customers and revenue increased for e-commerce platforms. Slice the data to just the first half of 2020 (`2020-01` to `2020-06` in the DataFrame), and then use hvPlot to plot the data. Do both time series indicate a common trend that’s consistent with this narrative?\n",
        "\n",
        "3. Create a new column in the DataFrame named “Lagged Search Trends” that offsets, or shifts, the search traffic by one hour. Create two additional columns:\n",
        "\n",
        "    * “Stock Volatility”, which holds an exponentially weighted four-hour rolling average of the company’s stock volatility\n",
        "\n",
        "    * “Hourly Stock Return”, which holds the percent change of the company's stock price on an hourly basis\n",
        "\n",
        "4. Review the time series correlation, and then answer the following question: Does a predictable relationship exist between the lagged search traffic and the stock volatility or between the lagged search traffic and the stock price returns?\n"
      ]
    },
    {
      "cell_type": "markdown",
      "metadata": {
        "id": "q9tC-qQaSw2E"
      },
      "source": [
        "#### Step 1: Read in and plot the stock price data. Concatenate the stock price data to the search data in a single DataFrame."
      ]
    },
    {
      "cell_type": "code",
      "execution_count": null,
      "metadata": {
        "id": "OLQzlkQlSw2E"
      },
      "outputs": [],
      "source": [
        "# Upload the \"mercado_stock_price.csv\" file into Colab, then store in a Pandas DataFrame\n",
        "# Set the \"date\" column as the Datetime Index.\n",
        "from google.colab import files\n",
        "uploaded = files.upload()\n",
        "\n",
        "df_mercado_stock = # YOUR CODE HERE\n",
        "\n",
        "# View the first and last five rows of the DataFrame\n",
        "# YOUR CODE HERE\n"
      ]
    },
    {
      "cell_type": "code",
      "execution_count": null,
      "metadata": {
        "id": "zcr8y8ySSw2E"
      },
      "outputs": [],
      "source": [
        "# Holoviews extension to render hvPlots in Colab\n",
        "hv.extension('bokeh')\n",
        "\n",
        "# Use hvPlot to visualize the closing price of the df_mercado_stock DataFrame\n",
        "df_mercado_stock['close'].hvplot(title=\"Historical Mercado Closing Prices\")\n",
        "\n"
      ]
    },
    {
      "cell_type": "code",
      "execution_count": null,
      "metadata": {
        "id": "HzL3o0fXSw2E"
      },
      "outputs": [],
      "source": [
        "# Concatenate the df_mercado_stock DataFrame with the df_mercado_trends DataFrame\n",
        "# Concatenate the DataFrame by columns (axis=1), and drop and rows with only one column of data\n",
        "mercado_stock_trends_df = pd.concat([df_mercado_trends, df_mercado_stock], axis=1).dropna()\n",
        "\n",
        "# View the first and last five rows of the DataFrame\n",
        "mercado_stock_trends_df.head()"
      ]
    },
    {
      "cell_type": "markdown",
      "metadata": {
        "id": "9N91nyk0Sw2F"
      },
      "source": [
        "#### Step 2: Market events emerged during the year of 2020 that many companies found difficult. But, after the initial shock to global financial markets, new customers and revenue increased for e-commerce platforms. Slice the data to just the first half of 2020 (`2020-01` to `2020-06` in the DataFrame), and then use hvPlot to plot the data. Do both time series indicate a common trend that’s consistent with this narrative?"
      ]
    },
    {
      "cell_type": "code",
      "execution_count": null,
      "metadata": {
        "id": "KI5NZCmuSw2F"
      },
      "outputs": [],
      "source": [
        "# For the combined dataframe, slice to just the first half of 2020 (2020-01 through 2020-06)\n",
        "first_half_2020 = mercado_stock_trends_df.loc[\"2020-01\":\"2020-06\"]\n",
        "\n",
        "# View the first and last five rows of first_half_2020 DataFrame\n",
        "first_half_2020.tail()\n"
      ]
    },
    {
      "cell_type": "code",
      "execution_count": null,
      "metadata": {
        "id": "r-3Ypn_RSw2F"
      },
      "outputs": [],
      "source": [
        "# Holoviews extension to render hvPlots in Colab\n",
        "hv.extension('bokeh')\n",
        "\n",
        "# Use hvPlot to visualize the close and Search Trends data\n",
        "# Plot each column on a separate axes using the following syntax\n",
        "# `hvplot(shared_axes=False, subplots=True).cols(1)`\n",
        "first_half_2020.hvplot(shared_axes=False, subplots=True).cols(1)\n"
      ]
    },
    {
      "cell_type": "markdown",
      "metadata": {
        "id": "Nih9cfD6Sw2F"
      },
      "source": [
        "##### Answer the following question:"
      ]
    },
    {
      "cell_type": "markdown",
      "metadata": {
        "id": "6ooOhOMmSw2G"
      },
      "source": [
        "**Question:** Do both time series indicate a common trend that’s consistent with this narrative?\n",
        "\n",
        "**Answer:** # YOUR ANSWER HERE"
      ]
    },
    {
      "cell_type": "markdown",
      "metadata": {
        "id": "0ce5FA3YSw2G"
      },
      "source": [
        "#### Step 3: Create a new column in the DataFrame named “Lagged Search Trends” that offsets, or shifts, the search traffic by one hour. Create two additional columns:\n",
        "\n",
        "* “Stock Volatility”, which holds an exponentially weighted four-hour rolling average of the company’s stock volatility\n",
        "\n",
        "* “Hourly Stock Return”, which holds the percent change of the company's stock price on an hourly basis\n"
      ]
    },
    {
      "cell_type": "code",
      "execution_count": null,
      "metadata": {
        "id": "l6HfCNsQSw2G"
      },
      "outputs": [],
      "source": [
        "# Create a new column in the mercado_stock_trends_df DataFrame called Lagged Search Trends\n",
        "# This column should shift the Search Trends information by one hour\n",
        "mercado_stock_trends_df['Lagged Search Trends'] = mercado_stock_trends_df['Search Trends'].shift(periods=1)\n",
        "mercado_stock_trends_df.head()"
      ]
    },
    {
      "cell_type": "code",
      "execution_count": null,
      "metadata": {
        "id": "WwFz_olsSw2G"
      },
      "outputs": [],
      "source": [
        "# Create a new column in the mercado_stock_trends_df DataFrame called Stock Volatility\n",
        "# This column should calculate the standard deviation of the closing stock price return data over a 4 period rolling window\n",
        "mercado_stock_trends_df['Stock Volatility'] = mercado_stock_trends_df['close'].pct_change().rolling(4).std()\n",
        "mercado_stock_trends_df.head()"
      ]
    },
    {
      "cell_type": "code",
      "execution_count": null,
      "metadata": {
        "id": "p_wCJg8xSw2I"
      },
      "outputs": [],
      "source": [
        "# Holoviews extension to render hvPlots in Colab\n",
        "hv.extension('bokeh')\n",
        "\n",
        "# Use hvPlot to visualize the stock volatility\n",
        "mercado_stock_trends_df['Stock Volatility'].hvplot()\n"
      ]
    },
    {
      "cell_type": "markdown",
      "metadata": {
        "id": "xOwOHidRSw2I"
      },
      "source": [
        "**Solution Note:** Note how volatility spiked, and tended to stay high, during the first half of 2020. This is a common characteristic of volatility in stock returns worldwide: high volatility days tend to be followed by yet more high volatility days. When it rains, it pours."
      ]
    },
    {
      "cell_type": "code",
      "execution_count": null,
      "metadata": {
        "id": "5ZHWa18TSw2J"
      },
      "outputs": [],
      "source": [
        "# Create a new column in the mercado_stock_trends_df DataFrame called Hourly Stock Return\n",
        "# This column should calculate hourly return percentage of the closing price\n",
        "mercado_stock_trends_df['Hourly Stock Return'] = mercado_stock_trends_df['close'].pct_change()\n"
      ]
    },
    {
      "cell_type": "code",
      "execution_count": null,
      "metadata": {
        "id": "fdDjs5eHSw2K"
      },
      "outputs": [],
      "source": [
        "# View the first and last five rows of the mercado_stock_trends_df DataFrame\n",
        "mercado_stock_trends_df.head()\n"
      ]
    },
    {
      "cell_type": "markdown",
      "metadata": {
        "id": "w2xyv1GBSw2K"
      },
      "source": [
        "#### Step 4: Review the time series correlation, and then answer the following question: Does a predictable relationship exist between the lagged search traffic and the stock volatility or between the lagged search traffic and the stock price returns?"
      ]
    },
    {
      "cell_type": "code",
      "execution_count": null,
      "metadata": {
        "id": "lzO8o2mySw2K"
      },
      "outputs": [],
      "source": [
        "# Construct correlation table of Stock Volatility, Lagged Search Trends, and Hourly Stock Return\n",
        "mercado_stock_trends_df.corr()"
      ]
    },
    {
      "cell_type": "markdown",
      "metadata": {
        "id": "5lJbRiAESw2L"
      },
      "source": [
        "##### Answer the following question:\n"
      ]
    },
    {
      "cell_type": "markdown",
      "metadata": {
        "id": "ceL8PwzkSw2L"
      },
      "source": [
        "**Question:** Does a predictable relationship exist between the lagged search traffic and the stock volatility or between the lagged search traffic and the stock price returns?\n",
        "\n",
        "**Answer:** # YOUR ANSWER HERE"
      ]
    },
    {
      "cell_type": "markdown",
      "metadata": {
        "id": "HzQcoVYrSw2L"
      },
      "source": [
        "## Step 4: Create a Time Series Model with Prophet\n",
        "\n",
        "Now, you need to produce a time series model that analyzes and forecasts patterns in the hourly search data. To do so, complete the following steps:\n",
        "\n",
        "1. Set up the Google search data for a Prophet forecasting model.\n",
        "\n",
        "2. After estimating the model, plot the forecast. How's the near-term forecast for the popularity of MercadoLibre?\n",
        "\n",
        "3. Plot the individual time series components of the model to answer the following questions:\n",
        "\n",
        "    * What time of day exhibits the greatest popularity?\n",
        "\n",
        "    * Which day of the week gets the most search traffic?\n",
        "\n",
        "    * What's the lowest point for search traffic in the calendar year?\n"
      ]
    },
    {
      "cell_type": "markdown",
      "metadata": {
        "id": "spBnZYjTSw2M"
      },
      "source": [
        "#### Step 1: Set up the Google search data for a Prophet forecasting model."
      ]
    },
    {
      "cell_type": "code",
      "execution_count": null,
      "metadata": {
        "id": "VSXCmSTVSw2M"
      },
      "outputs": [],
      "source": [
        "# Using the df_mercado_trends DataFrame, reset the index so the date information is no longer the index\n",
        "mercado_prophet_df = df_mercado_trends.sort_index()\n",
        "mercado_prophet_df = df_mercado_trends.reset_index()\n",
        "\n",
        "# Label the columns ds and y so that the syntax is recognized by Prophet\n",
        "mercado_prophet_df.columns = [\"ds\", \"y\"]\n",
        "\n",
        "# Drop an NaN values from the prophet_df DataFrame\n",
        "mercado_prophet_df = mercado_prophet_df.dropna()\n",
        "\n",
        "# View the first and last five rows of the mercado_prophet_df DataFrame\n",
        "display(mercado_prophet_df.head())\n",
        "display(mercado_prophet_df.tail())\n"
      ]
    },
    {
      "cell_type": "code",
      "execution_count": null,
      "metadata": {
        "id": "qY_PC5aQSw2M"
      },
      "outputs": [],
      "source": [
        "# Call the Prophet function, store as an object\n",
        "model_mercado_trend = Prophet()\n"
      ]
    },
    {
      "cell_type": "code",
      "execution_count": null,
      "metadata": {
        "id": "OoNs4SCSSw2M"
      },
      "outputs": [],
      "source": [
        "# Fit the time-series model.\n",
        "model_mercado_trend.fit(mercado_prophet_df)"
      ]
    },
    {
      "cell_type": "code",
      "execution_count": null,
      "metadata": {
        "id": "EEBd-q4FSw2N"
      },
      "outputs": [],
      "source": [
        "# Create a future dataframe to hold predictions\n",
        "# Make the prediction go out as far as 2000 hours (approx 80 days)\n",
        "future_mercado_trends = model_mercado_trend.make_future_dataframe(periods=2000, freq=\"H\")\n",
        "\n",
        "# View the last five rows of the future_mercado_trends DataFrame\n",
        "future_mercado_trends.tail()\n"
      ]
    },
    {
      "cell_type": "code",
      "execution_count": null,
      "metadata": {
        "id": "U_LCKR3USw2N"
      },
      "outputs": [],
      "source": [
        "# Make the predictions for the trend data using the future_mercado_trends DataFrame\n",
        "forecast_mercado_trends = model_mercado_trend.predict(future_mercado_trends)\n",
        "\n",
        "# Display the first five rows of the forecast_mercado_trends DataFrame\n",
        "forecast_mercado_trends.head()\n",
        "\n"
      ]
    },
    {
      "cell_type": "markdown",
      "metadata": {
        "id": "RjYGziP2Sw2N"
      },
      "source": [
        "#### Step 2: After estimating the model, plot the forecast. How's the near-term forecast for the popularity of MercadoLibre?"
      ]
    },
    {
      "cell_type": "code",
      "execution_count": null,
      "metadata": {
        "id": "imSWs9HPSw2N"
      },
      "outputs": [],
      "source": [
        "# Plot the Prophet predictions for the Mercado trends data\n",
        "model_mercado_trend.plot(forecast_mercado_trends)"
      ]
    },
    {
      "cell_type": "markdown",
      "metadata": {
        "id": "xoi4KpaySw2N"
      },
      "source": [
        "##### Answer the following question:"
      ]
    },
    {
      "cell_type": "markdown",
      "metadata": {
        "id": "OiQPT2bgSw2O"
      },
      "source": [
        "**Question:**  How's the near-term forecast for the popularity of MercadoLibre?\n",
        "\n",
        "**Answer:** # YOUR ANSWER HERE\n"
      ]
    },
    {
      "cell_type": "markdown",
      "metadata": {
        "id": "4E7f8mU9Sw2O"
      },
      "source": [
        "#### Step 3: Plot the individual time series components of the model to answer the following questions:\n",
        "\n",
        "* What time of day exhibits the greatest popularity?\n",
        "\n",
        "* Which day of the week gets the most search traffic?\n",
        "\n",
        "* What's the lowest point for search traffic in the calendar year?\n"
      ]
    },
    {
      "cell_type": "code",
      "execution_count": null,
      "metadata": {
        "id": "tr9Aqcs3Sw2O"
      },
      "outputs": [],
      "source": [
        "# Set the index in the forecast_mercado_trends DataFrame to the ds datetime column\n",
        "forecast_mercado_trends = forecast_mercado_trends.set_index(\"ds\")\n",
        "\n",
        "# View the only the yhat,yhat_lower and yhat_upper columns from the DataFrame\n",
        "forecast_mercado_trends[[\"yhat\", \"yhat_lower\", \"yhat_upper\"]].head()"
      ]
    },
    {
      "cell_type": "markdown",
      "metadata": {
        "id": "KjWYAM_pSw2O"
      },
      "source": [
        "Solutions Note: `yhat` represents the most likely (average) forecast, whereas `yhat_lower` and `yhat_upper` represents the worst and best case prediction (based on what are known as 95% confidence intervals)."
      ]
    },
    {
      "cell_type": "code",
      "execution_count": null,
      "metadata": {
        "id": "RBUwMKX_Sw2P"
      },
      "outputs": [],
      "source": [
        "# Holoviews extension to render hvPlots in Colab\n",
        "hv.extension('bokeh')\n",
        "\n",
        "# From the forecast_mercado_trends DataFrame, use hvPlot to visualize\n",
        "#  the yhat, yhat_lower, and yhat_upper columns over the last 2000 hours\n",
        "forecast_mercado_trends[[\"yhat\", \"yhat_lower\", \"yhat_upper\"]].iloc[-2000:,:].hvplot()"
      ]
    },
    {
      "cell_type": "code",
      "execution_count": null,
      "metadata": {
        "id": "j6V0dcooSw2P"
      },
      "outputs": [],
      "source": [
        "# Reset the index in the forecast_mercado_trends DataFrame\n",
        "forecast_mercado_trends = forecast_mercado_trends.reset_index()\n",
        "\n",
        "# Use the plot_components function to visualize the forecast results\n",
        "# for the forecast_mercado DataFrame\n",
        "figures_mercado_trends = model_mercado_trend.plot_components(forecast_mercado_trends)"
      ]
    },
    {
      "cell_type": "markdown",
      "metadata": {
        "id": "N11HoTv8Sw2P"
      },
      "source": [
        "##### Answer the following questions:"
      ]
    },
    {
      "cell_type": "markdown",
      "metadata": {
        "id": "kPCex68NSw2Q"
      },
      "source": [
        "**Question:** What time of day exhibits the greatest popularity?\n",
        "\n",
        "**Answer:** # YOUR ANSWER HERE"
      ]
    },
    {
      "cell_type": "markdown",
      "metadata": {
        "id": "ZD18mLQRSw2Q"
      },
      "source": [
        "**Question:** Which day of week gets the most search traffic?\n",
        "   \n",
        "**Answer:** # YOUR ANSWER HERE"
      ]
    },
    {
      "cell_type": "markdown",
      "metadata": {
        "id": "BNlzZHp4Sw2Q"
      },
      "source": [
        "**Question:** What's the lowest point for search traffic in the calendar year?\n",
        "\n",
        "**Answer:** # YOUR ANSWER HERE\n"
      ]
    },
    {
      "cell_type": "markdown",
      "metadata": {
        "id": "3IDeFnEqSw2R"
      },
      "source": [
        "## Step 5 (Optional): Forecast Revenue by Using Time Series Models\n",
        "\n",
        "A few weeks after your initial analysis, the finance group follows up to find out if you can help them solve a different problem. Your fame as a growth analyst in the company continues to grow!\n",
        "\n",
        "Specifically, the finance group wants a forecast of the total sales for the next quarter. This will dramatically increase their ability to plan budgets and to help guide expectations for the company investors.\n",
        "\n",
        "To do so, complete the following steps:\n",
        "\n",
        "1. Read in the daily historical sales (that is, revenue) figures, and then apply a Prophet model to the data. The daily sales figures are quoted in millions of USD dollars.\n",
        "\n",
        "2. Interpret the model output to identify any seasonal patterns in the company's revenue. For example, what are the peak revenue days? (Mondays? Fridays? Something else?)\n",
        "\n",
        "3. Produce a sales forecast for the finance group. Give them a number for the expected total sales in the next quarter. Include the best- and worst-case scenarios to help them make better plans.\n",
        "\n",
        "\n"
      ]
    },
    {
      "cell_type": "markdown",
      "metadata": {
        "id": "8FJFxJhOSw2R"
      },
      "source": [
        "#### Step 1: Read in the daily historical sales (that is, revenue) figures, and then apply a Prophet model to the data."
      ]
    },
    {
      "cell_type": "code",
      "execution_count": null,
      "metadata": {
        "id": "2Q_qTyWxSw2R"
      },
      "outputs": [],
      "source": [
        "# Upload the \"mercado_daily_revenue.csv\" file into Colab, then store in a Pandas DataFrame\n",
        "# Set the \"date\" column as the DatetimeIndex\n",
        "# Sales are quoted in millions of US dollars\n",
        "from google.colab import files\n",
        "uploaded = files.upload()\n"
      ]
    },
    {
      "cell_type": "code",
      "execution_count": null,
      "metadata": {
        "id": "ckye4D4VSw2R"
      },
      "outputs": [],
      "source": [
        "# Holoviews extension to render hvPlots in Colab\n",
        "hv.extension('bokeh')\n",
        "\n",
        "# Use hvPlot to visualize the daily sales figures\n",
        "df_mercado_sales.hvplot(title=\"Mercado daily Sales\")\n"
      ]
    },
    {
      "cell_type": "code",
      "execution_count": null,
      "metadata": {
        "id": "cXB4nCevSw2T"
      },
      "outputs": [],
      "source": [
        "# Apply a Facebook Prophet model to the data.\n",
        "\n",
        "# Set up the dataframe in the neccessary format:\n",
        "# Reset the index so that date becomes a column in the DataFrame\n",
        "df_mercado_sales = df_mercado_sales.reset_index()\n",
        "\n",
        "mercado_sales_prophet_df = df_mercado_sales\n",
        "\n",
        "# Adjust the columns names to the Prophet syntax\n",
        "mercado_sales_prophet_df.columns = ['ds', 'y']\n",
        "\n",
        "# Visualize the DataFrame\n",
        "display(mercado_sales_prophet_df.head())\n",
        "\n"
      ]
    },
    {
      "cell_type": "code",
      "execution_count": null,
      "metadata": {
        "id": "pHWD6gP8Sw2T"
      },
      "outputs": [],
      "source": [
        "# Create the model\n",
        "mercado_sales_prophet_model = Prophet()\n",
        "# Fit the model\n",
        "mercado_sales_prophet_model.fit(mercado_sales_prophet_df)"
      ]
    },
    {
      "cell_type": "code",
      "execution_count": null,
      "metadata": {
        "id": "-e-F5bldSw2U"
      },
      "outputs": [],
      "source": [
        "# Predict sales for 90 days (1 quarter) out into the future.\n",
        "\n",
        "# Start by making a future dataframe\n",
        "mercado_sales_prophet_future = mercado_sales_prophet_model.make_future_dataframe(periods = 90, freq = 'D')\n",
        "\n",
        "# Display the last five rows of the future DataFrame\n",
        "display(mercado_sales_prophet_future.tail())\n"
      ]
    },
    {
      "cell_type": "code",
      "execution_count": null,
      "metadata": {
        "id": "rgxtUTEmSw2U"
      },
      "outputs": [],
      "source": [
        "# Make predictions for the sales each day over the next quarter\n",
        "mercado_sales_prophet_forecast = mercado_sales_prophet_model.predict(mercado_sales_prophet_future)\n",
        "\n",
        "# Display the first 5 rows of the resulting DataFrame\n",
        "display(mercado_sales_prophet_forecast.head())\n"
      ]
    },
    {
      "cell_type": "markdown",
      "metadata": {
        "id": "xvpQ9bNJSw2U"
      },
      "source": [
        "#### Step 2: Interpret the model output to identify any seasonal patterns in the company's revenue. For example, what are the peak revenue days? (Mondays? Fridays? Something else?)"
      ]
    },
    {
      "cell_type": "code",
      "execution_count": null,
      "metadata": {
        "id": "XGs0ZF_lSw2V"
      },
      "outputs": [],
      "source": [
        "# Use the plot_components function to analyze seasonal patterns in the company's revenue\n",
        "mercado_sales_prophet_model.plot_components(mercado_sales_prophet_forecast)"
      ]
    },
    {
      "cell_type": "markdown",
      "metadata": {
        "id": "aPOj3AyJSw2V"
      },
      "source": [
        "##### Answer the following question:"
      ]
    },
    {
      "cell_type": "markdown",
      "metadata": {
        "id": "AiSoWA7zSw2V"
      },
      "source": [
        "**Question:** For example, what are the peak revenue days? (Mondays? Fridays? Something else?)\n",
        "\n",
        "**Answer:** # YOUR ANSWER HERE"
      ]
    },
    {
      "cell_type": "markdown",
      "metadata": {
        "id": "MthMbJr6Sw2V"
      },
      "source": [
        "#### Step 3: Produce a sales forecast for the finance group. Give them a number for the expected total sales in the next quarter. Include the best- and worst-case scenarios to help them make better plans."
      ]
    },
    {
      "cell_type": "code",
      "execution_count": null,
      "metadata": {
        "id": "dNc5ohW1Sw2W"
      },
      "outputs": [],
      "source": [
        "# Plot the predictions for the Mercado sales\n",
        "mercado_sales_prophet_model.plot(mercado_sales_prophet_forecast)\n"
      ]
    },
    {
      "cell_type": "code",
      "execution_count": null,
      "metadata": {
        "id": "nwyahW1ESw2W"
      },
      "outputs": [],
      "source": [
        "# For the mercado_sales_prophet_forecast DataFrame, set the ds column as the DataFrame Index\n",
        "mercado_sales_prophet_forecast = mercado_sales_prophet_forecast.set_index(\"ds\")\n",
        "\n",
        "# Display the first and last five rows of the DataFrame\n",
        "display(mercado_sales_prophet_forecast.head())\n",
        "display(mercado_sales_prophet_forecast.tail())"
      ]
    },
    {
      "cell_type": "code",
      "execution_count": null,
      "metadata": {
        "id": "BQX0-6loSw2W"
      },
      "outputs": [],
      "source": [
        "# Produce a sales forecast for the finance division\n",
        "# giving them a number for expected total sales next quarter.\n",
        "# Provide best case (yhat_upper), worst case (yhat_lower), and most likely (yhat) scenarios.\n",
        "mercado_sales_prophet_forecast = mercado_sales_prophet_forecast[[\"yhat\", \"yhat_upper\", \"yhat_lower\"]]\n",
        "\n",
        "# Create a forecast_quarter Dataframe for the period 2020-07-01 to 2020-09-30\n",
        "# The DataFrame should include the columns yhat_upper, yhat_lower, and yhat\n",
        "mercado_sales_forecast_quarter = mercado_sales_prophet_forecast.loc[\"2020-07-01\":\"2020-09-30\"]\n",
        "\n",
        "# Update the column names for the forecast_quarter DataFrame\n",
        "# to match what the finance division is looking for\n",
        "mercado_sales_forecast_quarter = mercado_sales_forecast_quarter.rename(columns= {\"yhat\": \"Mostly likely\", \"yhat_upper\": \"Best Case\", \"yhat_lower\": \"Worst Case\"})\n",
        "\n",
        "# Review the last five rows of the DataFrame\n",
        "mercado_sales_forecast_quarter.tail()\n"
      ]
    },
    {
      "cell_type": "code",
      "execution_count": null,
      "metadata": {
        "id": "rXw_16UVSw2W"
      },
      "outputs": [],
      "source": [
        "# Displayed the summed values for all the rows in the forecast_quarter DataFrame\n",
        "mercado_sales_forecast_quarter.sum()\n"
      ]
    },
    {
      "cell_type": "markdown",
      "metadata": {
        "id": "6CMxBg30Sw2X"
      },
      "source": [
        "### Based on the forecast information generated above, produce a sales forecast for the finance division, giving them a number for expected total sales next quarter. Include best and worst case scenarios, to better help the finance team plan.\n",
        "\n",
        "**Answer:** # YOUR ANSWER HERE"
      ]
    },
    {
      "cell_type": "code",
      "execution_count": null,
      "metadata": {
        "id": "0DgydptOSw2X"
      },
      "outputs": [],
      "source": [
        "We can see that the most likely case for the quarter would be roughly $969 million dollars. The best case scenario would be roughly $1 billion dollars. The worst case scenario would be roughly $886 million dollars."
      ]
    }
  ],
  "metadata": {
    "kernelspec": {
      "display_name": "Python 3 (ipykernel)",
      "language": "python",
      "name": "python3"
    },
    "language_info": {
      "codemirror_mode": {
        "name": "ipython",
        "version": 3
      },
      "file_extension": ".py",
      "mimetype": "text/x-python",
      "name": "python",
      "nbconvert_exporter": "python",
      "pygments_lexer": "ipython3",
      "version": "3.10.11"
    },
    "colab": {
      "provenance": []
    }
  },
  "nbformat": 4,
  "nbformat_minor": 0
}